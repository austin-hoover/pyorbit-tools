{
 "cells": [
  {
   "cell_type": "markdown",
   "id": "2653fc91-09c6-448b-a40c-f7fceaa6088c",
   "metadata": {},
   "source": [
    "# Analysis: track ring eigenvectors"
   ]
  },
  {
   "cell_type": "code",
   "execution_count": null,
   "id": "81ab2c46-0869-4b4a-861b-06cd039f2b70",
   "metadata": {},
   "outputs": [],
   "source": [
    "import os\n",
    "import sys\n",
    "\n",
    "import matplotlib.pyplot as plt\n",
    "import numpy as np\n",
    "import pandas as pd\n",
    "import proplot as pplt\n",
    "import psdist as ps\n",
    "import psdist.visualization as psv\n",
    "import yaml\n",
    "from ipywidgets import interact\n",
    "from ipywidgets import widgets\n",
    "from omegaconf import OmegaConf\n",
    "from omegaconf import DictConfig\n",
    "from pprint import pprint"
   ]
  },
  {
   "cell_type": "code",
   "execution_count": null,
   "id": "70fde718-d543-4979-a4af-fe35794a9480",
   "metadata": {},
   "outputs": [],
   "source": [
    "pplt.rc[\"cmap.discrete\"] = False\n",
    "pplt.rc[\"cmap.sequential\"] = \"viridis\"\n",
    "pplt.rc[\"cycle\"] = \"538\"\n",
    "pplt.rc[\"grid\"] = False\n",
    "pplt.rc[\"figure.facecolor\"] = \"white\""
   ]
  },
  {
   "cell_type": "markdown",
   "id": "0ff1cbc7-8567-4c27-9e30-91785a2d0b11",
   "metadata": {},
   "source": [
    "## Setup"
   ]
  },
  {
   "cell_type": "code",
   "execution_count": null,
   "id": "7482d209-2514-43cf-a386-5cd427ad76c4",
   "metadata": {},
   "outputs": [],
   "source": [
    "timestamp = None\n",
    "script_name = \"track_eig\"\n",
    "\n",
    "if timestamp is None:\n",
    "    input_dirs = os.listdir(f\"./outputs/{script_name}\")\n",
    "    input_dirs = sorted(input_dirs)\n",
    "    input_dir = input_dirs[-1]\n",
    "    input_dir = os.path.join(f\"./outputs/{script_name}\", input_dir)\n",
    "else:\n",
    "    input_dir = f\"./outputs/{script_name}/{timestamp}/\"\n",
    "\n",
    "print(\"intput_dir = \", input_dir)"
   ]
  },
  {
   "cell_type": "code",
   "execution_count": null,
   "id": "7dfa8590-d6e2-4bc4-a5b6-187e286ea644",
   "metadata": {
    "scrolled": true
   },
   "outputs": [],
   "source": [
    "cfg_path = os.path.join(input_dir, \"config/config.yaml\")\n",
    "cfg = yaml.safe_load(open(cfg_path, \"r\"))\n",
    "cfg = DictConfig(cfg)\n",
    "\n",
    "print(\"config:\")\n",
    "print(OmegaConf.to_yaml(cfg))"
   ]
  },
  {
   "cell_type": "markdown",
   "id": "9a3bc461-e13f-49c5-a684-e473cd411f8e",
   "metadata": {},
   "source": [
    "## Load transfer matrix"
   ]
  },
  {
   "cell_type": "code",
   "execution_count": null,
   "id": "a2287146-7be9-491d-a01b-bc0be09ac335",
   "metadata": {},
   "outputs": [],
   "source": [
    "M = np.loadtxt(os.path.join(input_dir, \"transfer_matrix.dat\"))\n",
    "\n",
    "from orbitsim import coupling\n",
    "eigvals, eigvecs = np.linalg.eig(M)\n",
    "eigtunes = coupling.eigentunes_from_eigenvalues(eigvals)\n",
    "eigvecs = coupling.normalize_eigenvectors(eigvecs)"
   ]
  },
  {
   "cell_type": "markdown",
   "id": "b1b844ba-b9f4-4556-abe2-363d194e5dcf",
   "metadata": {},
   "source": [
    "## Analysis"
   ]
  },
  {
   "cell_type": "code",
   "execution_count": null,
   "id": "f4c52f8e-c9d3-4547-9e35-b16a79897265",
   "metadata": {},
   "outputs": [],
   "source": [
    "coords = np.load(os.path.join(input_dir, \"coords.npy\"))\n",
    "coords = coords[:, :, :4]\n",
    "coords *= 1000.0\n",
    "coords.shape"
   ]
  },
  {
   "cell_type": "code",
   "execution_count": null,
   "id": "ba1ea335-e21d-4fb2-8923-136692abff5a",
   "metadata": {},
   "outputs": [],
   "source": [
    "v1 = coords[:, 0, :]\n",
    "v2 = coords[:, 1, :]"
   ]
  },
  {
   "cell_type": "markdown",
   "id": "d88e3e71-d743-44a8-92f1-34be830c5d5a",
   "metadata": {},
   "source": [
    "### Corner"
   ]
  },
  {
   "cell_type": "code",
   "execution_count": null,
   "id": "6803e2a6-99ac-4ab0-b0a8-89c706306bc7",
   "metadata": {},
   "outputs": [],
   "source": [
    "dims = [\"x\", \"xp\", \"y\", \"yp\", \"z\", \"dE\"]\n",
    "units = [\"mm\", \"mrad\", \"mm\", \"mrad\", \"m\", \"MeV\"]\n",
    "labels = [f\"{dim} [{unit}]\" for dim, unit in zip(dims, units)]\n",
    "limits = [ps.points.limits(v, zero_center=True, share=[(0, 2), (1, 3)], pad=0.25) for v in [v1, v2]]\n",
    "limits = psv.combine_limits(limits)"
   ]
  },
  {
   "cell_type": "code",
   "execution_count": null,
   "id": "9202db44-ff4f-4535-93f9-5d3cf6937eb8",
   "metadata": {},
   "outputs": [],
   "source": [
    "grid = psv.CornerGrid(d=4, diag=False)\n",
    "grid.plot_points(v1, kind=\"scatter\", c=\"red6\")\n",
    "grid.plot_points(v2, kind=\"scatter\", c=\"blue6\")\n",
    "grid.set_labels(labels)\n",
    "grid.set_limits(limits)\n",
    "\n",
    "# Plot an injected particle.\n",
    "x = np.zeros((1000, 4))\n",
    "x[0] = [10.0, +0.25, 0.0, 1.0]\n",
    "for i in range(1, x.shape[0]):\n",
    "    x[i] = np.matmul(M, x[i - 1])\n",
    "grid.plot_points(x, kind=\"scatter\", c=\"black\", s=1)\n",
    "\n",
    "plt.show()"
   ]
  },
  {
   "cell_type": "code",
   "execution_count": null,
   "id": "4e7c0bd0-8043-4e07-aadb-aa2137b0d271",
   "metadata": {},
   "outputs": [],
   "source": []
  }
 ],
 "metadata": {
  "kernelspec": {
   "display_name": "Python (pyorbit)",
   "language": "python",
   "name": "pyorbit"
  },
  "language_info": {
   "codemirror_mode": {
    "name": "ipython",
    "version": 3
   },
   "file_extension": ".py",
   "mimetype": "text/x-python",
   "name": "python",
   "nbconvert_exporter": "python",
   "pygments_lexer": "ipython3",
   "version": "3.10.14"
  }
 },
 "nbformat": 4,
 "nbformat_minor": 5
}

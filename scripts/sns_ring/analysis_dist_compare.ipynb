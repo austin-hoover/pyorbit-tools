{
 "cells": [
  {
   "cell_type": "markdown",
   "id": "69ddffa5-0f31-4327-ac34-ae7f1d40d603",
   "metadata": {},
   "source": [
    "# Multiturn injection analysis — multibunch comparison"
   ]
  },
  {
   "cell_type": "code",
   "execution_count": null,
   "id": "5e25d424-fe5b-4a59-94a6-efef08ef6f97",
   "metadata": {},
   "outputs": [],
   "source": [
    "import os\n",
    "import sys\n",
    "\n",
    "import matplotlib.pyplot as plt\n",
    "import numpy as np\n",
    "import proplot as pplt\n",
    "from ipywidgets import interact\n",
    "from ipywidgets import widgets"
   ]
  },
  {
   "cell_type": "code",
   "execution_count": null,
   "id": "293d5c5a-1ec4-4eb4-9448-37b00cb7e47f",
   "metadata": {},
   "outputs": [],
   "source": [
    "pplt.rc[\"cmap.discrete\"] = False\n",
    "pplt.rc[\"cmap.sequential\"] = \"viridis\"\n",
    "pplt.rc[\"grid\"] = False\n",
    "pplt.rc[\"figure.facecolor\"] = \"white\""
   ]
  },
  {
   "cell_type": "markdown",
   "id": "e8d3d7de-4638-4fca-8d37-24715fdeefc3",
   "metadata": {},
   "source": [
    "## Load data"
   ]
  },
  {
   "cell_type": "code",
   "execution_count": null,
   "id": "fee144ad-5eba-4c26-a6c1-dbfab4e63f8f",
   "metadata": {},
   "outputs": [],
   "source": [
    "timestamps = {\n",
    "    \"sc_off\": 240514171357,\n",
    "    \"sc_on \": 240514172003,\n",
    "}\n",
    "keys = list(timestamps)\n",
    "\n",
    "script_names = {\n",
    "    keys[0]: \"paint_prod\",\n",
    "    keys[1]: \"paint_prod\",\n",
    "}"
   ]
  },
  {
   "cell_type": "code",
   "execution_count": null,
   "id": "25e3d6a3-e890-4b9e-a561-ba81bb1febb6",
   "metadata": {},
   "outputs": [],
   "source": [
    "input_dirs = {}\n",
    "for key in keys:\n",
    "    timestamp = timestamps[key]\n",
    "    script_name = script_names[key]\n",
    "    input_dir = f\"./outputs/{script_name}/{timestamp}/\"\n",
    "    input_dirs[key] = input_dir"
   ]
  },
  {
   "cell_type": "code",
   "execution_count": null,
   "id": "6ee40b8a-2179-440f-9089-0efd109f8973",
   "metadata": {},
   "outputs": [],
   "source": [
    "def get_bunch_filenames(input_dir: str) -> list[str]:\n",
    "    filenames = os.listdir(input_dir)\n",
    "    filenames = sorted(filenames)\n",
    "    filenames = [f for f in filenames if f.startswith(\"bunch\")]\n",
    "    filenames = [os.path.join(input_dir, f) for f in filenames]\n",
    "    return filenames\n",
    "\n",
    "\n",
    "def load_bunch(filename: str, subtract_mean: bool = True) -> np.ndarray:\n",
    "    X = np.loadtxt(filename, comments=\"%\", usecols=range(6))\n",
    "    X[:, :4] *= 1000.0\n",
    "    X[:, 5] *= 1000.0\n",
    "    if subtract_mean:\n",
    "        X -= np.mean(X, axis=0)    \n",
    "    turn = int(filename.split(\"_\")[-1].split(\".dat\")[0])\n",
    "    return (X, turn)"
   ]
  },
  {
   "cell_type": "code",
   "execution_count": null,
   "id": "a83b4999-2039-4904-9d75-d76703d1127e",
   "metadata": {},
   "outputs": [],
   "source": [
    "bunches = {}\n",
    "bunch_turns = {}\n",
    "for key in keys:\n",
    "    print(key)\n",
    "    bunches[key] = []\n",
    "    bunch_turns[key] = []    \n",
    "    for filename in get_bunch_filenames(input_dirs[key]):\n",
    "        X, turn = load_bunch(filename)\n",
    "        bunches[key].append(X)\n",
    "        bunch_turns[key].append(turn)\n",
    "\n",
    "        print(\"turn =\", turn)"
   ]
  },
  {
   "cell_type": "markdown",
   "id": "132fc83f-088b-4066-b0a8-eec464cbc2cf",
   "metadata": {},
   "source": [
    "## Scalars"
   ]
  },
  {
   "cell_type": "code",
   "execution_count": null,
   "id": "dfcd729b-022a-4a8b-8c1d-0568a3a51963",
   "metadata": {},
   "outputs": [],
   "source": []
  },
  {
   "cell_type": "markdown",
   "id": "cb7a49c5-f4a6-473d-961e-2138ba11c802",
   "metadata": {},
   "source": [
    "## Phase space distribution"
   ]
  },
  {
   "cell_type": "code",
   "execution_count": null,
   "id": "36fb0c4a-dbcd-465d-a8e5-9d67efc4619d",
   "metadata": {},
   "outputs": [],
   "source": [
    "dims = [\"x\", \"xp\", \"y\", \"yp\", \"z\", \"dE\"]\n",
    "units = [\"mm\", \"mrad\", \"mm\", \"mrad\", \"m\", \"MeV\"]\n",
    "labels = [f\"{dim} [{unit}]\" for dim, unit in zip(dims, units)]\n",
    "\n",
    "xmaxs = 4.0 * np.std(bunches[keys[0]][-1], axis=0)\n",
    "limits = [(-xmax, xmax) for xmax in xmaxs]"
   ]
  },
  {
   "cell_type": "markdown",
   "id": "f8e1add7-ee8f-4af9-9007-ecd2ef1e58c6",
   "metadata": {},
   "source": [
    "### Interactive 2D projections"
   ]
  },
  {
   "cell_type": "code",
   "execution_count": null,
   "id": "0faac4b1-47bf-4c72-aa8d-619c2b376cba",
   "metadata": {},
   "outputs": [],
   "source": [
    "@interact(\n",
    "    key=keys,\n",
    "    dim1=widgets.Dropdown(options=dims, value=dims[0]),\n",
    "    dim2=widgets.Dropdown(options=dims, value=dims[1]),\n",
    "    index=widgets.IntSlider(min=0, max=(len(bunches[keys[0]]) - 1), value=0),\n",
    "    bins=widgets.IntSlider(min=32, max=128, value=64),\n",
    ")\n",
    "def update(key: str, dim1: str, dim2: str, index: int, bins: int):\n",
    "    if dim1 == dim2:\n",
    "        return\n",
    "\n",
    "    axis = [dims.index(dim) for dim in [dim1, dim2]]\n",
    "    axis = tuple(axis)\n",
    "    \n",
    "    X = bunches[key][index]\n",
    "\n",
    "    fig, ax = pplt.subplots()\n",
    "    ax.hist2d(\n",
    "        X[:, axis[0]], \n",
    "        X[:, axis[1]], \n",
    "        bins=bins,\n",
    "        range=[limits[axis[0]], limits[axis[1]]],\n",
    "    )\n",
    "    ax.format(xlabel=labels[axis[0]], ylabel=labels[axis[1]])\n",
    "    ax.format(title=f\"turn = {bunch_turns[key][index]}\")\n",
    "\n",
    "    paxs = [ax.panel_axes(loc) for loc in [\"top\", \"right\"]]\n",
    "    for pax in paxs:\n",
    "        pax.format(xspineloc=\"bottom\", yspineloc=\"left\")\n",
    "    kws = dict(bins=bins, density=False, color=\"black\", histtype=\"step\", lw=1.25)\n",
    "    paxs[0].hist( X[:, axis[0]], range=limits[axis[0]], **kws)\n",
    "    paxs[1].histh(X[:, axis[1]], range=limits[axis[1]], **kws)\n",
    "    plt.show()"
   ]
  },
  {
   "cell_type": "markdown",
   "id": "ff241af4-5132-40c1-a5c3-14bf72807aca",
   "metadata": {},
   "source": [
    "### Interactive 2D projections side-by-side"
   ]
  },
  {
   "cell_type": "code",
   "execution_count": null,
   "id": "347b71e1-4c38-4a72-b4fd-464f6cb06c7c",
   "metadata": {},
   "outputs": [],
   "source": [
    "@interact(\n",
    "    dim1=widgets.Dropdown(options=dims, value=dims[0]),\n",
    "    dim2=widgets.Dropdown(options=dims, value=dims[1]),\n",
    "    index=widgets.IntSlider(min=0, max=(len(bunches[keys[0]]) - 1), value=0),\n",
    "    bins=widgets.IntSlider(min=32, max=128, value=64),\n",
    ")\n",
    "def update(dim1: str, dim2: str, index: int, bins: int):\n",
    "    if dim1 == dim2:\n",
    "        return\n",
    "\n",
    "    axis = [dims.index(dim) for dim in [dim1, dim2]]\n",
    "    axis = tuple(axis)\n",
    "    \n",
    "    fig, axs = pplt.subplots(ncols=2, share=False, space=7.0)\n",
    "    for ax, key in zip(axs, keys):\n",
    "        X = bunches[key][index]\n",
    "        ax.hist2d(\n",
    "            X[:, axis[0]], \n",
    "            X[:, axis[1]], \n",
    "            bins=bins,\n",
    "            range=[limits[axis[0]], limits[axis[1]]],\n",
    "            cmap=\"viridis\",\n",
    "        )    \n",
    "        paxs = [ax.panel_axes(loc) for loc in [\"top\", \"right\"]]\n",
    "        for pax in paxs:\n",
    "            pax.format(xspineloc=\"bottom\", yspineloc=\"left\")\n",
    "        kws = dict(bins=bins, density=False, color=\"black\", histtype=\"step\", lw=1.25)\n",
    "        paxs[0].hist( X[:, axis[0]], range=limits[axis[0]], **kws)\n",
    "        paxs[1].histh(X[:, axis[1]], range=limits[axis[1]], **kws)\n",
    "    \n",
    "    axs.format(xlabel=labels[axis[0]], ylabel=labels[axis[1]])\n",
    "    axs[0].format(title=f\"turn = {bunch_turns[key][index]}\")\n",
    "    plt.show()"
   ]
  },
  {
   "cell_type": "code",
   "execution_count": null,
   "id": "6f78c69b-60e5-4812-97bd-baab7a2074bc",
   "metadata": {},
   "outputs": [],
   "source": []
  }
 ],
 "metadata": {
  "kernelspec": {
   "display_name": "Python (proplot-test)",
   "language": "python",
   "name": "proplot-test"
  },
  "language_info": {
   "codemirror_mode": {
    "name": "ipython",
    "version": 3
   },
   "file_extension": ".py",
   "mimetype": "text/x-python",
   "name": "python",
   "nbconvert_exporter": "python",
   "pygments_lexer": "ipython3",
   "version": "3.11.5"
  }
 },
 "nbformat": 4,
 "nbformat_minor": 5
}

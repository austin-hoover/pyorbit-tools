{
 "cells": [
  {
   "cell_type": "markdown",
   "id": "69ddffa5-0f31-4327-ac34-ae7f1d40d603",
   "metadata": {},
   "source": [
    "# Multiturn injection analysis"
   ]
  },
  {
   "cell_type": "code",
   "execution_count": 3,
   "id": "5e25d424-fe5b-4a59-94a6-efef08ef6f97",
   "metadata": {},
   "outputs": [],
   "source": [
    "import os\n",
    "import sys\n",
    "\n",
    "import matplotlib.pyplot as plt\n",
    "import numpy as np\n",
    "import pandas as pd\n",
    "import proplot as pplt\n",
    "import psdist as ps\n",
    "import psdist.visualization as psv\n",
    "import yaml\n",
    "from ipywidgets import interact\n",
    "from ipywidgets import widgets\n",
    "from omegaconf import OmegaConf\n",
    "from omegaconf import DictConfig\n",
    "from pprint import pprint"
   ]
  },
  {
   "cell_type": "code",
   "execution_count": 4,
   "id": "293d5c5a-1ec4-4eb4-9448-37b00cb7e47f",
   "metadata": {},
   "outputs": [],
   "source": [
    "pplt.rc[\"cmap.discrete\"] = False\n",
    "pplt.rc[\"cmap.sequential\"] = \"viridis\"\n",
    "pplt.rc[\"cycle\"] = \"538\"\n",
    "pplt.rc[\"grid\"] = False\n",
    "pplt.rc[\"figure.facecolor\"] = \"white\""
   ]
  },
  {
   "cell_type": "markdown",
   "id": "e8d3d7de-4638-4fca-8d37-24715fdeefc3",
   "metadata": {},
   "source": [
    "## Setup"
   ]
  },
  {
   "cell_type": "code",
   "execution_count": 5,
   "id": "fee144ad-5eba-4c26-a6c1-dbfab4e63f8f",
   "metadata": {},
   "outputs": [
    {
     "name": "stdout",
     "output_type": "stream",
     "text": [
      "intput_dir =  ./outputs/paint_root/240517144842\n"
     ]
    }
   ],
   "source": [
    "timestamp = None\n",
    "script_name = \"paint_root\"\n",
    "\n",
    "if timestamp is None:\n",
    "    input_dirs = os.listdir(f\"./outputs/{script_name}\")\n",
    "    input_dirs = sorted(input_dirs)\n",
    "    input_dir = input_dirs[-1]\n",
    "    input_dir = os.path.join(f\"./outputs/{script_name}\", input_dir)\n",
    "else:\n",
    "    input_dir = f\"./outputs/{script_name}/{timestamp}/\"\n",
    "\n",
    "print(\"intput_dir = \", input_dir)"
   ]
  },
  {
   "cell_type": "code",
   "execution_count": 6,
   "id": "dde983e4-05e2-4635-a1f1-4343fca8b462",
   "metadata": {
    "scrolled": true
   },
   "outputs": [
    {
     "name": "stdout",
     "output_type": "stream",
     "text": [
      "config:\n",
      "timestamp: ${now:%y%m%d%H%M%S}\n",
      "bunch:\n",
      "  mass: 0.93827231\n",
      "  energy: 0.8\n",
      "lattice:\n",
      "  path: ./lattice/sns_ring_nux6.175_nuy6.175_sol.lattice\n",
      "  seq: rnginjsol\n",
      "  apertures: false\n",
      "  foil: false\n",
      "  fringe: true\n",
      "  impedance:\n",
      "    xy: false\n",
      "    z: false\n",
      "  spacecharge:\n",
      "    xy: false\n",
      "    z: false\n",
      "  rf: false\n",
      "  solenoid: true\n",
      "foil:\n",
      "  thickness: 390.0\n",
      "  scatter: full\n",
      "  parent_index: 0\n",
      "impedance:\n",
      "  xy:\n",
      "    n_bins: 64\n",
      "    use_x: false\n",
      "    use_y: true\n",
      "    alpha_x: 0.0\n",
      "    alpha_y: -0.004\n",
      "    beta_x: 10.191\n",
      "    beta_y: 10.447\n",
      "    tune_x: 6.21991\n",
      "    tune_y: 6.20936\n",
      "  z:\n",
      "    n_macros_min: 1000\n",
      "    n_bins: 128\n",
      "inj:\n",
      "  intensity: 225800000000.0\n",
      "  x:\n",
      "    order: 9\n",
      "    alpha: 0.064\n",
      "    beta: 10.056\n",
      "    eps: 2.21e-07\n",
      "    pos: 0.0486\n",
      "    mom: 0.0\n",
      "  'y':\n",
      "    order: 9\n",
      "    alpha: 0.063\n",
      "    beta: 10.815\n",
      "    eps: 2.21e-07\n",
      "    pos: 0.046\n",
      "    mom: 0.0\n",
      "  z:\n",
      "    fill_fraction: 139.68\n",
      "    tail_fraction: 0.0\n",
      "    energy:\n",
      "      sigma: 0.0005\n",
      "      trunc: 1.0\n",
      "      min: -0.0025\n",
      "      max: 0.0025\n",
      "      centroid:\n",
      "        mean: 0.0\n",
      "        sigma: 1.0e-09\n",
      "        trunc: 1.0\n",
      "        min: -0.0035\n",
      "        max: 0.0035\n",
      "        drifti: 0.0\n",
      "        driftf: 0.0\n",
      "      spread:\n",
      "        nu: 100.0\n",
      "        phase: 0.0\n",
      "        max: 0.0\n",
      "        nulltime: 0.0\n",
      "spacecharge:\n",
      "  xy:\n",
      "    solver: slicebyslice\n",
      "    gridx: 128\n",
      "    gridy: 128\n",
      "    gridz: 64\n",
      "    path_length_min: 1.0e-08\n",
      "    n_macros_min: 1000\n",
      "    boundary: true\n",
      "    boundary_modes: 32\n",
      "    boundary_points: 128\n",
      "    boundary_radius: 0.22\n",
      "  z:\n",
      "    b_over_a: 3.333\n",
      "    n_macros_min: 1000\n",
      "    n_bins: 64\n",
      "rf:\n",
      "  voltage_1a: 2.0e-06\n",
      "  voltage_1b: 2.0e-06\n",
      "  voltage_1c: 2.0e-06\n",
      "  voltage_2: -4.0e-06\n",
      "  hnum_1a: 1.0\n",
      "  hnum_1b: 1.0\n",
      "  hnum_1c: 1.0\n",
      "  hnum_2: 2.0\n",
      "plot_freq: 100\n",
      "progbar: true\n",
      "verbose: true\n",
      "paint:\n",
      "  xi: 0.0\n",
      "  yi: 0.0\n",
      "  xpi: 0.0\n",
      "  ypi: 0.0\n",
      "  xf: 0.01\n",
      "  yf: 0.0\n",
      "  xpf: 0.0005\n",
      "  ypf: 0.001\n",
      "turns_inj: 600\n",
      "turns_store: 0\n",
      "macros_per_turn: 10\n",
      "write_bunch_freq: 100\n",
      "\n"
     ]
    }
   ],
   "source": [
    "cfg_path = os.path.join(input_dir, \"config/config.yaml\")\n",
    "cfg = yaml.safe_load(open(cfg_path, \"r\"))\n",
    "cfg = DictConfig(cfg)\n",
    "\n",
    "print(\"config:\")\n",
    "print(OmegaConf.to_yaml(cfg))"
   ]
  },
  {
   "cell_type": "code",
   "execution_count": 7,
   "id": "e42dffaf-f823-406e-94ad-55733968fc6b",
   "metadata": {},
   "outputs": [],
   "source": [
    "cycle_colors = pplt.Cycle(pplt.rc[\"cycle\"]).by_key()[\"color\"]"
   ]
  },
  {
   "cell_type": "markdown",
   "id": "132fc83f-088b-4066-b0a8-eec464cbc2cf",
   "metadata": {},
   "source": [
    "## Scalars"
   ]
  },
  {
   "cell_type": "code",
   "execution_count": 8,
   "id": "dfcd729b-022a-4a8b-8c1d-0568a3a51963",
   "metadata": {},
   "outputs": [
    {
     "data": {
      "text/html": [
       "<div>\n",
       "<style scoped>\n",
       "    .dataframe tbody tr th:only-of-type {\n",
       "        vertical-align: middle;\n",
       "    }\n",
       "\n",
       "    .dataframe tbody tr th {\n",
       "        vertical-align: top;\n",
       "    }\n",
       "\n",
       "    .dataframe thead th {\n",
       "        text-align: right;\n",
       "    }\n",
       "</style>\n",
       "<table border=\"1\" class=\"dataframe\">\n",
       "  <thead>\n",
       "    <tr style=\"text-align: right;\">\n",
       "      <th></th>\n",
       "      <th>size</th>\n",
       "      <th>gamma</th>\n",
       "      <th>beta</th>\n",
       "      <th>energy</th>\n",
       "      <th>x_rms</th>\n",
       "      <th>y_rms</th>\n",
       "      <th>z_rms</th>\n",
       "      <th>x_min</th>\n",
       "      <th>x_max</th>\n",
       "      <th>y_min</th>\n",
       "      <th>...</th>\n",
       "      <th>cov_2-4</th>\n",
       "      <th>cov_3-4</th>\n",
       "      <th>cov_4-4</th>\n",
       "      <th>cov_0-5</th>\n",
       "      <th>cov_1-5</th>\n",
       "      <th>cov_2-5</th>\n",
       "      <th>cov_3-5</th>\n",
       "      <th>cov_4-5</th>\n",
       "      <th>cov_5-5</th>\n",
       "      <th>runtim</th>\n",
       "    </tr>\n",
       "  </thead>\n",
       "  <tbody>\n",
       "    <tr>\n",
       "      <th>0</th>\n",
       "      <td>10</td>\n",
       "      <td>1.852631</td>\n",
       "      <td>0.841811</td>\n",
       "      <td>0.8</td>\n",
       "      <td>0.001633</td>\n",
       "      <td>0.001003</td>\n",
       "      <td>87.983044</td>\n",
       "      <td>0.046012</td>\n",
       "      <td>0.051436</td>\n",
       "      <td>0.044849</td>\n",
       "      <td>...</td>\n",
       "      <td>-0.033810</td>\n",
       "      <td>0.008092</td>\n",
       "      <td>7741.016104</td>\n",
       "      <td>-2.962188e-07</td>\n",
       "      <td>5.670889e-08</td>\n",
       "      <td>1.942874e-07</td>\n",
       "      <td>3.709525e-08</td>\n",
       "      <td>0.008590</td>\n",
       "      <td>3.554322e-07</td>\n",
       "      <td>0.000451</td>\n",
       "    </tr>\n",
       "    <tr>\n",
       "      <th>1</th>\n",
       "      <td>20</td>\n",
       "      <td>1.852631</td>\n",
       "      <td>0.841811</td>\n",
       "      <td>0.8</td>\n",
       "      <td>0.001607</td>\n",
       "      <td>0.001832</td>\n",
       "      <td>85.275604</td>\n",
       "      <td>0.045014</td>\n",
       "      <td>0.051309</td>\n",
       "      <td>0.043749</td>\n",
       "      <td>...</td>\n",
       "      <td>0.063943</td>\n",
       "      <td>0.002435</td>\n",
       "      <td>7271.928613</td>\n",
       "      <td>1.530926e-07</td>\n",
       "      <td>2.358469e-08</td>\n",
       "      <td>-4.639265e-08</td>\n",
       "      <td>1.006094e-08</td>\n",
       "      <td>0.005496</td>\n",
       "      <td>2.529642e-07</td>\n",
       "      <td>0.011085</td>\n",
       "    </tr>\n",
       "    <tr>\n",
       "      <th>2</th>\n",
       "      <td>30</td>\n",
       "      <td>1.852631</td>\n",
       "      <td>0.841811</td>\n",
       "      <td>0.8</td>\n",
       "      <td>0.001856</td>\n",
       "      <td>0.001201</td>\n",
       "      <td>82.601343</td>\n",
       "      <td>0.043807</td>\n",
       "      <td>0.052273</td>\n",
       "      <td>0.043636</td>\n",
       "      <td>...</td>\n",
       "      <td>0.021953</td>\n",
       "      <td>-0.002962</td>\n",
       "      <td>6822.981892</td>\n",
       "      <td>9.265316e-08</td>\n",
       "      <td>1.549010e-08</td>\n",
       "      <td>6.285072e-08</td>\n",
       "      <td>2.091965e-08</td>\n",
       "      <td>0.001052</td>\n",
       "      <td>2.504191e-07</td>\n",
       "      <td>0.022785</td>\n",
       "    </tr>\n",
       "    <tr>\n",
       "      <th>3</th>\n",
       "      <td>40</td>\n",
       "      <td>1.852631</td>\n",
       "      <td>0.841811</td>\n",
       "      <td>0.8</td>\n",
       "      <td>0.001635</td>\n",
       "      <td>0.001693</td>\n",
       "      <td>81.926323</td>\n",
       "      <td>0.044199</td>\n",
       "      <td>0.050693</td>\n",
       "      <td>0.042845</td>\n",
       "      <td>...</td>\n",
       "      <td>-0.010535</td>\n",
       "      <td>-0.002296</td>\n",
       "      <td>6711.922432</td>\n",
       "      <td>2.047187e-07</td>\n",
       "      <td>8.695326e-09</td>\n",
       "      <td>1.467288e-07</td>\n",
       "      <td>-6.360681e-09</td>\n",
       "      <td>-0.003528</td>\n",
       "      <td>2.355374e-07</td>\n",
       "      <td>0.033778</td>\n",
       "    </tr>\n",
       "    <tr>\n",
       "      <th>4</th>\n",
       "      <td>50</td>\n",
       "      <td>1.852631</td>\n",
       "      <td>0.841811</td>\n",
       "      <td>0.8</td>\n",
       "      <td>0.002007</td>\n",
       "      <td>0.001672</td>\n",
       "      <td>77.323593</td>\n",
       "      <td>0.044086</td>\n",
       "      <td>0.052646</td>\n",
       "      <td>0.042518</td>\n",
       "      <td>...</td>\n",
       "      <td>-0.015190</td>\n",
       "      <td>-0.000414</td>\n",
       "      <td>5978.938073</td>\n",
       "      <td>1.810609e-07</td>\n",
       "      <td>-1.249377e-08</td>\n",
       "      <td>-1.105281e-07</td>\n",
       "      <td>-1.512218e-08</td>\n",
       "      <td>-0.001645</td>\n",
       "      <td>2.341336e-07</td>\n",
       "      <td>0.044710</td>\n",
       "    </tr>\n",
       "  </tbody>\n",
       "</table>\n",
       "<p>5 rows × 46 columns</p>\n",
       "</div>"
      ],
      "text/plain": [
       "   size     gamma      beta  energy     x_rms     y_rms      z_rms     x_min  \\\n",
       "0    10  1.852631  0.841811     0.8  0.001633  0.001003  87.983044  0.046012   \n",
       "1    20  1.852631  0.841811     0.8  0.001607  0.001832  85.275604  0.045014   \n",
       "2    30  1.852631  0.841811     0.8  0.001856  0.001201  82.601343  0.043807   \n",
       "3    40  1.852631  0.841811     0.8  0.001635  0.001693  81.926323  0.044199   \n",
       "4    50  1.852631  0.841811     0.8  0.002007  0.001672  77.323593  0.044086   \n",
       "\n",
       "      x_max     y_min  ...   cov_2-4   cov_3-4      cov_4-4       cov_0-5  \\\n",
       "0  0.051436  0.044849  ... -0.033810  0.008092  7741.016104 -2.962188e-07   \n",
       "1  0.051309  0.043749  ...  0.063943  0.002435  7271.928613  1.530926e-07   \n",
       "2  0.052273  0.043636  ...  0.021953 -0.002962  6822.981892  9.265316e-08   \n",
       "3  0.050693  0.042845  ... -0.010535 -0.002296  6711.922432  2.047187e-07   \n",
       "4  0.052646  0.042518  ... -0.015190 -0.000414  5978.938073  1.810609e-07   \n",
       "\n",
       "        cov_1-5       cov_2-5       cov_3-5   cov_4-5       cov_5-5    runtim  \n",
       "0  5.670889e-08  1.942874e-07  3.709525e-08  0.008590  3.554322e-07  0.000451  \n",
       "1  2.358469e-08 -4.639265e-08  1.006094e-08  0.005496  2.529642e-07  0.011085  \n",
       "2  1.549010e-08  6.285072e-08  2.091965e-08  0.001052  2.504191e-07  0.022785  \n",
       "3  8.695326e-09  1.467288e-07 -6.360681e-09 -0.003528  2.355374e-07  0.033778  \n",
       "4 -1.249377e-08 -1.105281e-07 -1.512218e-08 -0.001645  2.341336e-07  0.044710  \n",
       "\n",
       "[5 rows x 46 columns]"
      ]
     },
     "execution_count": 8,
     "metadata": {},
     "output_type": "execute_result"
    }
   ],
   "source": [
    "history = pd.read_csv(os.path.join(input_dir, \"history.dat\"))\n",
    "history.head()"
   ]
  },
  {
   "cell_type": "code",
   "execution_count": 9,
   "id": "1d59d42c-8ee8-4fd2-ad01-37bb3bebfd85",
   "metadata": {
    "scrolled": true
   },
   "outputs": [
    {
     "name": "stdout",
     "output_type": "stream",
     "text": [
      "['size',\n",
      " 'gamma',\n",
      " 'beta',\n",
      " 'energy',\n",
      " 'x_rms',\n",
      " 'y_rms',\n",
      " 'z_rms',\n",
      " 'x_min',\n",
      " 'x_max',\n",
      " 'y_min',\n",
      " 'y_max',\n",
      " 'z_min',\n",
      " 'z_max',\n",
      " 'eps_x',\n",
      " 'eps_y',\n",
      " 'eps_z',\n",
      " 'eps_1',\n",
      " 'eps_2',\n",
      " 'mean_0',\n",
      " 'mean_1',\n",
      " 'mean_2',\n",
      " 'mean_3',\n",
      " 'mean_4',\n",
      " 'mean_5',\n",
      " 'cov_0-0',\n",
      " 'cov_0-1',\n",
      " 'cov_1-1',\n",
      " 'cov_0-2',\n",
      " 'cov_1-2',\n",
      " 'cov_2-2',\n",
      " 'cov_0-3',\n",
      " 'cov_1-3',\n",
      " 'cov_2-3',\n",
      " 'cov_3-3',\n",
      " 'cov_0-4',\n",
      " 'cov_1-4',\n",
      " 'cov_2-4',\n",
      " 'cov_3-4',\n",
      " 'cov_4-4',\n",
      " 'cov_0-5',\n",
      " 'cov_1-5',\n",
      " 'cov_2-5',\n",
      " 'cov_3-5',\n",
      " 'cov_4-5',\n",
      " 'cov_5-5',\n",
      " 'runtim']\n"
     ]
    }
   ],
   "source": [
    "pprint(list(history.keys()))"
   ]
  },
  {
   "cell_type": "code",
   "execution_count": 10,
   "id": "21beb016-23a5-4c9e-a74d-38c470d6246b",
   "metadata": {},
   "outputs": [
    {
     "data": {
      "image/png": "[encoded data removed]",
      "text/plain": [
       "Figure(nrows=1, ncols=1, figwidth=4.5, figheight=2.0)"
      ]
     },
     "metadata": {
      "image/png": {
       "height": 200,
       "width": 450
      }
     },
     "output_type": "display_data"
    }
   ],
   "source": [
    "fig, ax = pplt.subplots(figsize=(4.5, 2.0))\n",
    "for key in [\"x_rms\", \"y_rms\"]:\n",
    "    ax.plot(history[key].values * 1000.0, label=key)\n",
    "ax.legend(loc=\"r\", ncols=1)\n",
    "ax.format(xlabel=\"Turn\", ylabel=\"[mm]\", ymin=0.0)\n",
    "ax.format(xmin=-20, xmax=(history.shape[0] + 1))"
   ]
  },
  {
   "cell_type": "code",
   "execution_count": 11,
   "id": "1d7e69d2-b9f4-431b-8e66-bf93abaa282f",
   "metadata": {},
   "outputs": [
    {
     "data": {
      "image/png": "[encoded data removed]",
      "text/plain": [
       "Figure(nrows=1, ncols=1, figwidth=4.5, figheight=2.0)"
      ]
     },
     "metadata": {
      "image/png": {
       "height": 200,
       "width": 450
      }
     },
     "output_type": "display_data"
    }
   ],
   "source": [
    "fig, ax = pplt.subplots(figsize=(4.5, 2.0))\n",
    "for key in [\"eps_x\", \"eps_y\"]:\n",
    "    ax.plot(history[key].values * 1.00e+06, label=key)\n",
    "ax.legend(loc=\"r\", ncols=1)\n",
    "ax.format(xlabel=\"Turn\", ylabel=\"[mm mrad]\", ymin=0.0)\n",
    "ax.format(xmin=-20, xmax=(history.shape[0] + 1))"
   ]
  },
  {
   "cell_type": "code",
   "execution_count": 12,
   "id": "b99eba91-99b4-4bca-8001-11ab4b7d2d1c",
   "metadata": {},
   "outputs": [
    {
     "data": {
      "image/png": "[encoded data removed]",
      "text/plain": [
       "Figure(nrows=1, ncols=1, figwidth=4.5, figheight=2.0)"
      ]
     },
     "metadata": {
      "image/png": {
       "height": 200,
       "width": 450
      }
     },
     "output_type": "display_data"
    }
   ],
   "source": [
    "fig, ax = pplt.subplots(figsize=(4.5, 2.0))\n",
    "for i, key in enumerate([\"eps_x\", \"eps_y\"]):\n",
    "    ax.plot(history[key].values * 1.00e+06, label=key, color=cycle_colors[i])\n",
    "for i, key in enumerate([\"eps_1\", \"eps_2\"]):\n",
    "    ax.plot(history[key].values * 1.00e+06, label=key, color=cycle_colors[i], ls=\":\")\n",
    "ax.legend(loc=\"r\", ncols=1)\n",
    "ax.format(xlabel=\"Turn\", ylabel=\"[mm mrad]\", ymin=0.0)\n",
    "ax.format(xmin=-20, xmax=(history.shape[0] + 1))"
   ]
  },
  {
   "cell_type": "markdown",
   "id": "602a873c-09ea-48ed-b63e-ea3c40eba43b",
   "metadata": {},
   "source": [
    "## Tunes"
   ]
  },
  {
   "cell_type": "code",
   "execution_count": 13,
   "id": "7f7db884-d0c7-4af7-ab90-2159adc8b642",
   "metadata": {},
   "outputs": [],
   "source": [
    "# [...]"
   ]
  },
  {
   "cell_type": "markdown",
   "id": "cb7a49c5-f4a6-473d-961e-2138ba11c802",
   "metadata": {},
   "source": [
    "## Phase space distribution"
   ]
  },
  {
   "cell_type": "code",
   "execution_count": 14,
   "id": "c0723e78-e13d-4c29-b7f2-3b7b69aa9159",
   "metadata": {},
   "outputs": [],
   "source": [
    "bunch_filenames = os.listdir(input_dir)\n",
    "bunch_filenames = sorted(bunch_filenames)\n",
    "bunch_filenames = [f for f in bunch_filenames if f.startswith(\"bunch\")]\n",
    "bunch_filenames = [os.path.join(input_dir, f) for f in bunch_filenames]\n",
    "\n",
    "bunches = []\n",
    "bunch_turns = []\n",
    "for filename in bunch_filenames:\n",
    "    X = np.loadtxt(filename, comments=\"%\", usecols=range(6))\n",
    "    X[:, :4] *= 1000.0\n",
    "    X[:, 5] *= 1000.0\n",
    "    X = X - np.mean(X, axis=0)\n",
    "    bunches.append(X)\n",
    "\n",
    "    turn = int(filename.split(\"_\")[-1].split(\".dat\")[0])\n",
    "    bunch_turns.append(turn)"
   ]
  },
  {
   "cell_type": "code",
   "execution_count": 15,
   "id": "36fb0c4a-dbcd-465d-a8e5-9d67efc4619d",
   "metadata": {},
   "outputs": [],
   "source": [
    "dims = [\"x\", \"xp\", \"y\", \"yp\", \"z\", \"dE\"]\n",
    "units = [\"mm\", \"mrad\", \"mm\", \"mrad\", \"m\", \"MeV\"]\n",
    "labels = [f\"{dim} [{unit}]\" for dim, unit in zip(dims, units)]\n",
    "limits = ps.points.limits(bunches[-1], zero_center=True, share=[(0, 2), (1, 3)], pad=0.25)"
   ]
  },
  {
   "cell_type": "markdown",
   "id": "e5361be1-1790-474f-9c16-d335c140525a",
   "metadata": {},
   "source": [
    "### Interactive 2D projections"
   ]
  },
  {
   "cell_type": "code",
   "execution_count": 16,
   "id": "0faac4b1-47bf-4c72-aa8d-619c2b376cba",
   "metadata": {},
   "outputs": [
    {
     "data": {
      "application/vnd.jupyter.widget-view+json": {
       "model_id": "021f627c2db4449f89b2482cbd53cf4e",
       "version_major": 2,
       "version_minor": 0
      },
      "text/plain": [
       "interactive(children=(Dropdown(description='dim1', options=('x', 'xp', 'y', 'yp', 'z', 'dE'), value='x'), Drop…"
      ]
     },
     "metadata": {},
     "output_type": "display_data"
    }
   ],
   "source": [
    "@interact(\n",
    "    dim1=widgets.Dropdown(options=dims, value=dims[0]),\n",
    "    dim2=widgets.Dropdown(options=dims, value=dims[1]),\n",
    "    index=widgets.IntSlider(min=0, max=(len(bunches) - 1), value=0),\n",
    "    bins=widgets.IntSlider(min=32, max=128, value=64),\n",
    ")\n",
    "def update(dim1: str, dim2: str, index: int, bins: int):\n",
    "    if dim1 == dim2:\n",
    "        return\n",
    "\n",
    "    axis = [dims.index(dim) for dim in [dim1, dim2]]\n",
    "    axis = tuple(axis)\n",
    "    \n",
    "    X = bunches[index]\n",
    "\n",
    "    fig, ax = pplt.subplots()\n",
    "    ax.hist2d(\n",
    "        X[:, axis[0]], \n",
    "        X[:, axis[1]], \n",
    "        bins=bins,\n",
    "        range=[limits[axis[0]], limits[axis[1]]],\n",
    "    )\n",
    "    ax.format(xlabel=labels[axis[0]], ylabel=labels[axis[1]])\n",
    "    ax.format(title=f\"turn = {bunch_turns[index]}\")\n",
    "\n",
    "    paxs = [ax.panel_axes(loc) for loc in [\"top\", \"right\"]]\n",
    "    for pax in paxs:\n",
    "        pax.format(xspineloc=\"bottom\", yspineloc=\"left\")\n",
    "    kws = dict(bins=bins, density=False, color=\"black\", histtype=\"step\", lw=1.25)\n",
    "    paxs[0].hist( X[:, axis[0]], range=limits[axis[0]], **kws)\n",
    "    paxs[1].histh(X[:, axis[1]], range=limits[axis[1]], **kws)\n",
    "    plt.show()"
   ]
  },
  {
   "cell_type": "markdown",
   "id": "2acd8d07-f8f6-427f-a85d-8f3ac1784515",
   "metadata": {},
   "source": [
    "### Interactive corner"
   ]
  },
  {
   "cell_type": "code",
   "execution_count": 17,
   "id": "347b71e1-4c38-4a72-b4fd-464f6cb06c7c",
   "metadata": {},
   "outputs": [
    {
     "data": {
      "application/vnd.jupyter.widget-view+json": {
       "model_id": "c771d1e98716466d858f0d036d8e37ab",
       "version_major": 2,
       "version_minor": 0
      },
      "text/plain": [
       "interactive(children=(BoundedIntText(value=4, description='ndim', max=6, min=4), IntSlider(value=0, descriptio…"
      ]
     },
     "metadata": {},
     "output_type": "display_data"
    }
   ],
   "source": [
    "@interact(\n",
    "    ndim=widgets.BoundedIntText(min=4, max=6, value=4),\n",
    "    index=widgets.IntSlider(min=0, max=(len(bunches) - 1), value=0),\n",
    "    bins=widgets.IntSlider(min=32, max=128, value=42),\n",
    "    ellipse=False,\n",
    ")\n",
    "def update(ndim: int, index: int, bins: int, ellipse: bool):    \n",
    "    X = bunches[index][:, :ndim]\n",
    "    \n",
    "    grid = psv.CornerGrid(ndim, diag_shrink=0.85)\n",
    "    grid.plot_points(\n",
    "        X,\n",
    "        bins=bins,\n",
    "        limits=limits,\n",
    "        mask=False,\n",
    "        rms_ellipse=ellipse,\n",
    "        rms_ellipse_kws=dict(level=2.0, color=\"white\"),\n",
    "    )\n",
    "    grid.set_labels(labels)\n",
    "    grid.axs.format(suptitle=f\"Turn = {bunch_turns[index]}\")\n",
    "    plt.show()"
   ]
  },
  {
   "cell_type": "code",
   "execution_count": null,
   "id": "6f78c69b-60e5-4812-97bd-baab7a2074bc",
   "metadata": {},
   "outputs": [],
   "source": []
  }
 ],
 "metadata": {
  "kernelspec": {
   "display_name": "Python (pyorbit)",
   "language": "python",
   "name": "pyorbit"
  },
  "language_info": {
   "codemirror_mode": {
    "name": "ipython",
    "version": 3
   },
   "file_extension": ".py",
   "mimetype": "text/x-python",
   "name": "python",
   "nbconvert_exporter": "python",
   "pygments_lexer": "ipython3",
   "version": "3.10.14"
  }
 },
 "nbformat": 4,
 "nbformat_minor": 5
}

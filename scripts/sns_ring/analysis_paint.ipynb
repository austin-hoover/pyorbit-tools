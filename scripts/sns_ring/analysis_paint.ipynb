{
 "cells": [
  {
   "cell_type": "markdown",
   "id": "69ddffa5-0f31-4327-ac34-ae7f1d40d603",
   "metadata": {},
   "source": [
    "# Multiturn injection analysis"
   ]
  },
  {
   "cell_type": "code",
   "execution_count": null,
   "id": "5e25d424-fe5b-4a59-94a6-efef08ef6f97",
   "metadata": {},
   "outputs": [],
   "source": [
    "import os\n",
    "import sys\n",
    "\n",
    "import matplotlib.pyplot as plt\n",
    "import numpy as np\n",
    "import pandas as pd\n",
    "import proplot as pplt\n",
    "import psdist as ps\n",
    "import psdist.visualization as psv\n",
    "import yaml\n",
    "from ipywidgets import interact\n",
    "from ipywidgets import widgets\n",
    "from omegaconf import OmegaConf\n",
    "from omegaconf import DictConfig\n",
    "from pprint import pprint"
   ]
  },
  {
   "cell_type": "code",
   "execution_count": null,
   "id": "293d5c5a-1ec4-4eb4-9448-37b00cb7e47f",
   "metadata": {},
   "outputs": [],
   "source": [
    "pplt.rc[\"cmap.discrete\"] = False\n",
    "pplt.rc[\"cmap.sequential\"] = \"viridis\"\n",
    "pplt.rc[\"cycle\"] = \"538\"\n",
    "pplt.rc[\"grid\"] = False\n",
    "pplt.rc[\"figure.facecolor\"] = \"white\""
   ]
  },
  {
   "cell_type": "markdown",
   "id": "e8d3d7de-4638-4fca-8d37-24715fdeefc3",
   "metadata": {},
   "source": [
    "## Setup"
   ]
  },
  {
   "cell_type": "code",
   "execution_count": null,
   "id": "fee144ad-5eba-4c26-a6c1-dbfab4e63f8f",
   "metadata": {},
   "outputs": [],
   "source": [
    "timestamp = 240529093829  # None selects latest\n",
    "script_name = \"paint_root\"\n",
    "\n",
    "if timestamp is None:\n",
    "    input_dirs = os.listdir(f\"./outputs/{script_name}\")\n",
    "    input_dirs = sorted(input_dirs)\n",
    "    input_dir = input_dirs[-1]\n",
    "    input_dir = os.path.join(f\"./outputs/{script_name}\", input_dir)\n",
    "else:\n",
    "    input_dir = f\"./outputs/{script_name}/{timestamp}/\"\n",
    "\n",
    "print(\"intput_dir = \", input_dir)"
   ]
  },
  {
   "cell_type": "code",
   "execution_count": null,
   "id": "dde983e4-05e2-4635-a1f1-4343fca8b462",
   "metadata": {
    "scrolled": true
   },
   "outputs": [],
   "source": [
    "cfg_path = os.path.join(input_dir, \"config/config.yaml\")\n",
    "cfg = yaml.safe_load(open(cfg_path, \"r\"))\n",
    "cfg = DictConfig(cfg)\n",
    "\n",
    "print(\"config:\")\n",
    "print(OmegaConf.to_yaml(cfg))"
   ]
  },
  {
   "cell_type": "code",
   "execution_count": null,
   "id": "e42dffaf-f823-406e-94ad-55733968fc6b",
   "metadata": {},
   "outputs": [],
   "source": [
    "cycle_colors = pplt.Cycle(pplt.rc[\"cycle\"]).by_key()[\"color\"]"
   ]
  },
  {
   "cell_type": "markdown",
   "id": "132fc83f-088b-4066-b0a8-eec464cbc2cf",
   "metadata": {},
   "source": [
    "## Scalars"
   ]
  },
  {
   "cell_type": "code",
   "execution_count": null,
   "id": "dfcd729b-022a-4a8b-8c1d-0568a3a51963",
   "metadata": {},
   "outputs": [],
   "source": [
    "history = pd.read_csv(os.path.join(input_dir, \"history.dat\"))\n",
    "history.head()"
   ]
  },
  {
   "cell_type": "code",
   "execution_count": null,
   "id": "1d59d42c-8ee8-4fd2-ad01-37bb3bebfd85",
   "metadata": {
    "scrolled": true
   },
   "outputs": [],
   "source": [
    "pprint(list(history.keys()))"
   ]
  },
  {
   "cell_type": "code",
   "execution_count": null,
   "id": "21beb016-23a5-4c9e-a74d-38c470d6246b",
   "metadata": {},
   "outputs": [],
   "source": [
    "fig, ax = pplt.subplots(figsize=(4.5, 2.0))\n",
    "for key in [\"x_rms\", \"y_rms\"]:\n",
    "    ax.plot(history[key].values * 1000.0, label=key)\n",
    "ax.legend(loc=\"r\", ncols=1)\n",
    "ax.format(xlabel=\"Turn\", ylabel=\"[mm]\", ymin=0.0)\n",
    "ax.format(xmin=-20, xmax=(history.shape[0] + 1))"
   ]
  },
  {
   "cell_type": "code",
   "execution_count": null,
   "id": "1d7e69d2-b9f4-431b-8e66-bf93abaa282f",
   "metadata": {},
   "outputs": [],
   "source": [
    "fig, ax = pplt.subplots(figsize=(4.5, 2.0))\n",
    "for key in [\"eps_x\", \"eps_y\"]:\n",
    "    ax.plot(history[key].values * 1.00e+06, label=key)\n",
    "ax.legend(loc=\"r\", ncols=1)\n",
    "ax.format(xlabel=\"Turn\", ylabel=\"[mm mrad]\", ymin=0.0)\n",
    "ax.format(xmin=-20, xmax=(history.shape[0] + 1))"
   ]
  },
  {
   "cell_type": "code",
   "execution_count": null,
   "id": "b99eba91-99b4-4bca-8001-11ab4b7d2d1c",
   "metadata": {},
   "outputs": [],
   "source": [
    "fig, ax = pplt.subplots(figsize=(4.5, 2.0))\n",
    "for i, key in enumerate([\"eps_x\", \"eps_y\"]):\n",
    "    ax.plot(history[key].values * 1.00e+06, label=key, color=cycle_colors[i])\n",
    "for i, key in enumerate([\"eps_1\", \"eps_2\"]):\n",
    "    ax.plot(history[key].values * 1.00e+06, label=key, color=cycle_colors[i], ls=\":\")\n",
    "ax.legend(loc=\"r\", ncols=1)\n",
    "ax.format(xlabel=\"Turn\", ylabel=\"[mm mrad]\", ymin=0.0)\n",
    "ax.format(xmin=-20, xmax=(history.shape[0] + 1))"
   ]
  },
  {
   "cell_type": "markdown",
   "id": "d2916637-825d-4174-9053-8b81c7b77cd5",
   "metadata": {},
   "source": [
    "### Transfer matrix"
   ]
  },
  {
   "cell_type": "code",
   "execution_count": null,
   "id": "920c453e-4ee1-40fd-9269-6a0384052690",
   "metadata": {},
   "outputs": [],
   "source": [
    "M = np.loadtxt(os.path.join(input_dir, \"transfer_matrix.dat\"))\n",
    "\n",
    "from orbitsim import coupling\n",
    "eigvals, eigvecs = np.linalg.eig(M)\n",
    "eigtunes = coupling.eigentunes_from_eigenvalues(eigvals)\n",
    "eigvecs = coupling.normalize_eigenvectors(eigvecs)\n",
    "v1 = eigvecs[:, 0]\n",
    "v2 = eigvecs[:, 2]"
   ]
  },
  {
   "cell_type": "code",
   "execution_count": null,
   "id": "49543488-c5d4-4bb5-990a-6aeea90a3811",
   "metadata": {},
   "outputs": [],
   "source": [
    "eigtunes"
   ]
  },
  {
   "cell_type": "markdown",
   "id": "9c734671-fe9d-4799-969e-96a17217e11d",
   "metadata": {},
   "source": [
    "View effect of x' component."
   ]
  },
  {
   "cell_type": "code",
   "execution_count": null,
   "id": "11b689ea-2475-4055-85e4-48cb1478f9bf",
   "metadata": {},
   "outputs": [],
   "source": [
    "@interact(\n",
    "    x=(0.0, 20.0, 0.01),\n",
    "    xp=(-0.25, 0.25, 0.01),\n",
    "    yp=(-1.0, 1.0, 0.01),\n",
    ")\n",
    "def update(x: float, xp: float, yp: float = 0.85):\n",
    "    coords = np.zeros((1000, 4))\n",
    "    coords[0] = [x, xp, 0.0, yp]\n",
    "    for i in range(1, coords.shape[0]):\n",
    "        coords[i] = np.matmul(M, coords[i - 1])\n",
    "\n",
    "    grid = psv.CornerGrid(d=4, diag=False)\n",
    "    grid.plot_points(coords, kind=\"scatter\", c=\"black\", s=1)\n",
    "    plt.show()"
   ]
  },
  {
   "cell_type": "markdown",
   "id": "602a873c-09ea-48ed-b63e-ea3c40eba43b",
   "metadata": {},
   "source": [
    "## Tunes"
   ]
  },
  {
   "cell_type": "code",
   "execution_count": null,
   "id": "7f7db884-d0c7-4af7-ab90-2159adc8b642",
   "metadata": {},
   "outputs": [],
   "source": [
    "# [...]"
   ]
  },
  {
   "cell_type": "markdown",
   "id": "cb7a49c5-f4a6-473d-961e-2138ba11c802",
   "metadata": {},
   "source": [
    "## Phase space distribution"
   ]
  },
  {
   "cell_type": "code",
   "execution_count": null,
   "id": "c0723e78-e13d-4c29-b7f2-3b7b69aa9159",
   "metadata": {},
   "outputs": [],
   "source": [
    "bunch_filenames = os.listdir(input_dir)\n",
    "bunch_filenames = sorted(bunch_filenames)\n",
    "bunch_filenames = [f for f in bunch_filenames if f.startswith(\"bunch\")]\n",
    "bunch_filenames = [os.path.join(input_dir, f) for f in bunch_filenames]\n",
    "\n",
    "bunches = []\n",
    "bunch_turns = []\n",
    "for filename in bunch_filenames:\n",
    "    X = np.loadtxt(filename, comments=\"%\", usecols=range(6))\n",
    "    X[:, :4] *= 1000.0\n",
    "    X[:, 5] *= 1000.0\n",
    "    X = X - np.mean(X, axis=0)\n",
    "    bunches.append(X)\n",
    "\n",
    "    turn = int(filename.split(\"_\")[-1].split(\".dat\")[0])\n",
    "    bunch_turns.append(turn)"
   ]
  },
  {
   "cell_type": "code",
   "execution_count": null,
   "id": "36fb0c4a-dbcd-465d-a8e5-9d67efc4619d",
   "metadata": {},
   "outputs": [],
   "source": [
    "dims = [\"x\", \"xp\", \"y\", \"yp\", \"z\", \"dE\"]\n",
    "units = [\"mm\", \"mrad\", \"mm\", \"mrad\", \"m\", \"MeV\"]\n",
    "labels = [f\"{dim} [{unit}]\" for dim, unit in zip(dims, units)]\n",
    "limits = ps.points.limits(bunches[-1], zero_center=True, share=[(0, 2), (1, 3)], pad=0.25)"
   ]
  },
  {
   "cell_type": "markdown",
   "id": "e5361be1-1790-474f-9c16-d335c140525a",
   "metadata": {},
   "source": [
    "### Interactive 2D projections"
   ]
  },
  {
   "cell_type": "code",
   "execution_count": null,
   "id": "0faac4b1-47bf-4c72-aa8d-619c2b376cba",
   "metadata": {},
   "outputs": [],
   "source": [
    "@interact(\n",
    "    dim1=widgets.Dropdown(options=dims, value=dims[0]),\n",
    "    dim2=widgets.Dropdown(options=dims, value=dims[1]),\n",
    "    index=widgets.IntSlider(min=0, max=(len(bunches) - 1), value=0),\n",
    "    bins=widgets.IntSlider(min=32, max=128, value=64),\n",
    ")\n",
    "def update(dim1: str, dim2: str, index: int, bins: int):\n",
    "    if dim1 == dim2:\n",
    "        return\n",
    "\n",
    "    axis = [dims.index(dim) for dim in [dim1, dim2]]\n",
    "    axis = tuple(axis)\n",
    "    \n",
    "    X = bunches[index]\n",
    "\n",
    "    fig, ax = pplt.subplots()\n",
    "    ax.hist2d(\n",
    "        X[:, axis[0]], \n",
    "        X[:, axis[1]], \n",
    "        bins=bins,\n",
    "        range=[limits[axis[0]], limits[axis[1]]],\n",
    "    )\n",
    "    ax.format(xlabel=labels[axis[0]], ylabel=labels[axis[1]])\n",
    "    ax.format(title=f\"turn = {bunch_turns[index]}\")\n",
    "\n",
    "    paxs = [ax.panel_axes(loc) for loc in [\"top\", \"right\"]]\n",
    "    for pax in paxs:\n",
    "        pax.format(xspineloc=\"bottom\", yspineloc=\"left\")\n",
    "    kws = dict(bins=bins, density=False, color=\"black\", histtype=\"step\", lw=1.25)\n",
    "    paxs[0].hist( X[:, axis[0]], range=limits[axis[0]], **kws)\n",
    "    paxs[1].histh(X[:, axis[1]], range=limits[axis[1]], **kws)\n",
    "    plt.show()"
   ]
  },
  {
   "cell_type": "markdown",
   "id": "2acd8d07-f8f6-427f-a85d-8f3ac1784515",
   "metadata": {},
   "source": [
    "### Interactive corner"
   ]
  },
  {
   "cell_type": "code",
   "execution_count": null,
   "id": "347b71e1-4c38-4a72-b4fd-464f6cb06c7c",
   "metadata": {},
   "outputs": [],
   "source": [
    "@interact(\n",
    "    ndim=widgets.BoundedIntText(min=4, max=6, value=4),\n",
    "    index=widgets.IntSlider(min=0, max=(len(bunches) - 1), value=0),\n",
    "    bins=widgets.IntSlider(min=32, max=128, value=42),\n",
    "    ellipse=False,\n",
    ")\n",
    "def update(ndim: int, index: int, bins: int, ellipse: bool):    \n",
    "    X = bunches[index][:, :ndim]\n",
    "    \n",
    "    grid = psv.CornerGrid(ndim, diag_shrink=0.85)\n",
    "    grid.plot_points(\n",
    "        X,\n",
    "        bins=bins,\n",
    "        limits=limits,\n",
    "        mask=False,\n",
    "        rms_ellipse=ellipse,\n",
    "        rms_ellipse_kws=dict(level=2.0, color=\"white\"),\n",
    "    )\n",
    "    grid.set_labels(labels)\n",
    "    grid.axs.format(suptitle=f\"Turn = {bunch_turns[index]}\")\n",
    "    plt.show()"
   ]
  },
  {
   "cell_type": "code",
   "execution_count": null,
   "id": "6f78c69b-60e5-4812-97bd-baab7a2074bc",
   "metadata": {},
   "outputs": [],
   "source": []
  }
 ],
 "metadata": {
  "kernelspec": {
   "display_name": "Python (pyorbit)",
   "language": "python",
   "name": "pyorbit"
  },
  "language_info": {
   "codemirror_mode": {
    "name": "ipython",
    "version": 3
   },
   "file_extension": ".py",
   "mimetype": "text/x-python",
   "name": "python",
   "nbconvert_exporter": "python",
   "pygments_lexer": "ipython3",
   "version": "3.10.14"
  }
 },
 "nbformat": 4,
 "nbformat_minor": 5
}

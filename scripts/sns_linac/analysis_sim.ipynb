{
 "cells": [
  {
   "cell_type": "markdown",
   "id": "69ddffa5-0f31-4327-ac34-ae7f1d40d603",
   "metadata": {},
   "source": [
    "# Linac simulation analysis"
   ]
  },
  {
   "cell_type": "code",
   "execution_count": null,
   "id": "5e25d424-fe5b-4a59-94a6-efef08ef6f97",
   "metadata": {},
   "outputs": [],
   "source": [
    "import collections\n",
    "import os\n",
    "import sys\n",
    "\n",
    "import matplotlib.pyplot as plt\n",
    "import numpy as np\n",
    "import pandas as pd\n",
    "import proplot as pplt\n",
    "import psdist as ps\n",
    "import psdist.visualization as psv\n",
    "import yaml\n",
    "from ipywidgets import interact\n",
    "from ipywidgets import widgets\n",
    "from omegaconf import OmegaConf\n",
    "from omegaconf import DictConfig\n",
    "from pprint import pprint\n",
    "\n",
    "from orbitsim.utils import get_input_dir"
   ]
  },
  {
   "cell_type": "code",
   "execution_count": null,
   "id": "293d5c5a-1ec4-4eb4-9448-37b00cb7e47f",
   "metadata": {},
   "outputs": [],
   "source": [
    "pplt.rc[\"cmap.discrete\"] = False\n",
    "pplt.rc[\"cmap.sequential\"] = \"viridis\"\n",
    "pplt.rc[\"cycle\"] = \"538\"\n",
    "pplt.rc[\"grid\"] = False\n",
    "pplt.rc[\"figure.facecolor\"] = \"white\""
   ]
  },
  {
   "cell_type": "markdown",
   "id": "e8d3d7de-4638-4fca-8d37-24715fdeefc3",
   "metadata": {},
   "source": [
    "## Setup"
   ]
  },
  {
   "cell_type": "code",
   "execution_count": null,
   "id": "fee144ad-5eba-4c26-a6c1-dbfab4e63f8f",
   "metadata": {},
   "outputs": [],
   "source": [
    "timestamp = None  # None = latest\n",
    "script_name = \"sim\"\n",
    "\n",
    "input_dir = get_input_dir(timestamp, script_name)\n",
    "print(\"input_dir = \", input_dir)"
   ]
  },
  {
   "cell_type": "code",
   "execution_count": null,
   "id": "dde983e4-05e2-4635-a1f1-4343fca8b462",
   "metadata": {
    "scrolled": true
   },
   "outputs": [],
   "source": [
    "cfg_path = os.path.join(input_dir, \"config/config.yaml\")\n",
    "cfg = yaml.safe_load(open(cfg_path, \"r\"))\n",
    "cfg = DictConfig(cfg)\n",
    "\n",
    "print(\"config:\")\n",
    "print(OmegaConf.to_yaml(cfg))"
   ]
  },
  {
   "cell_type": "code",
   "execution_count": null,
   "id": "e42dffaf-f823-406e-94ad-55733968fc6b",
   "metadata": {},
   "outputs": [],
   "source": [
    "cycle_colors = pplt.Cycle(pplt.rc[\"cycle\"]).by_key()[\"color\"]"
   ]
  },
  {
   "cell_type": "markdown",
   "id": "a358bcd7-1de8-40e8-9b8e-deef10acf674",
   "metadata": {},
   "source": [
    "## Lattice structure"
   ]
  },
  {
   "cell_type": "code",
   "execution_count": null,
   "id": "b107f095-a49d-43dd-9ea6-7ef6c0f6d473",
   "metadata": {},
   "outputs": [],
   "source": [
    "filename = os.path.join(input_dir, \"lattice_nodes.txt\")\n",
    "nodes_df = pd.read_table(filename, sep=\" \")\n",
    "nodes_df"
   ]
  },
  {
   "cell_type": "code",
   "execution_count": null,
   "id": "e11b1a8e-1d91-4abb-b900-35a7315678dc",
   "metadata": {
    "scrolled": true
   },
   "outputs": [],
   "source": [
    "Node = collections.namedtuple(\"Node\", [\"name\", \"position\", \"length\", \"index\"])\n",
    "\n",
    "nodes_list = []\n",
    "nodes_dict = {}\n",
    "for index in range(nodes_df.shape[0]):\n",
    "    name = nodes_df.loc[index, \"node\"]\n",
    "    position = nodes_df.loc[index, \"position\"]\n",
    "    length = nodes_df.loc[index, \"length\"]\n",
    "    node = Node(name, position, length, index)\n",
    "    \n",
    "    nodes_list.append(node)\n",
    "    nodes_dict[name] = node"
   ]
  },
  {
   "cell_type": "markdown",
   "id": "132fc83f-088b-4066-b0a8-eec464cbc2cf",
   "metadata": {},
   "source": [
    "## Scalars"
   ]
  },
  {
   "cell_type": "code",
   "execution_count": null,
   "id": "dfcd729b-022a-4a8b-8c1d-0568a3a51963",
   "metadata": {},
   "outputs": [],
   "source": [
    "history = pd.read_csv(os.path.join(input_dir, \"history.dat\"))\n",
    "history.head()"
   ]
  },
  {
   "cell_type": "code",
   "execution_count": null,
   "id": "1d59d42c-8ee8-4fd2-ad01-37bb3bebfd85",
   "metadata": {
    "scrolled": true
   },
   "outputs": [],
   "source": [
    "print(\"history keys:\")\n",
    "pprint(list(history.keys()))"
   ]
  },
  {
   "cell_type": "markdown",
   "id": "179e1560-a111-440d-a3ec-6a9e902b6fde",
   "metadata": {},
   "source": [
    "### RMS beam size"
   ]
  },
  {
   "cell_type": "code",
   "execution_count": null,
   "id": "21beb016-23a5-4c9e-a74d-38c470d6246b",
   "metadata": {},
   "outputs": [],
   "source": [
    "fig, ax = pplt.subplots(figsize=(4.5, 2.0))\n",
    "for key in [\"x_rms\", \"y_rms\"]:\n",
    "    ax.plot(history[\"position\"].values, history[key].values * 1000.0, label=key)\n",
    "ax.legend(loc=\"r\", ncols=1)\n",
    "ax.format(xlabel=\"Distance [m]\", ylabel=\"[mm]\", ymin=0.0)\n",
    "plt.show()"
   ]
  },
  {
   "cell_type": "markdown",
   "id": "157d43be-9c94-4eeb-bd51-2c60a8f14744",
   "metadata": {},
   "source": [
    "### Maximum particle coordinates "
   ]
  },
  {
   "cell_type": "code",
   "execution_count": null,
   "id": "9f0c790d-83fc-42f4-a2fb-838b76253ffb",
   "metadata": {},
   "outputs": [],
   "source": [
    "for dim in \"xy\":\n",
    "    fig, ax = pplt.subplots(figsize=(4.5, 2.0))\n",
    "\n",
    "    key = f\"{dim}_max\"\n",
    "    ax.fill_between(\n",
    "        history[\"position\"].values, \n",
    "        -history[key].values * 1000.0,\n",
    "        +history[key].values * 1000.0,\n",
    "        label=key,\n",
    "        color=\"black\",\n",
    "        alpha=0.3,\n",
    "        lw=0,\n",
    "    )\n",
    "\n",
    "    key = f\"{dim}_rms\"\n",
    "    ax.fill_between(\n",
    "        history[\"position\"].values, \n",
    "        -history[key].values * 1000.0,\n",
    "        +history[key].values * 1000.0,\n",
    "        label=key,\n",
    "        color=\"black\",\n",
    "        lw=0,\n",
    "    )\n",
    "    \n",
    "    ax.legend(loc=\"r\", ncols=1)\n",
    "    ax.format(xlabel=\"Distance [m]\", ylabel=\"[mm]\")\n",
    "    plt.show()"
   ]
  },
  {
   "cell_type": "markdown",
   "id": "594a0ae5-fa53-4abb-a03f-fbb4ded85765",
   "metadata": {},
   "source": [
    "### Emittance"
   ]
  },
  {
   "cell_type": "code",
   "execution_count": null,
   "id": "1d7e69d2-b9f4-431b-8e66-bf93abaa282f",
   "metadata": {},
   "outputs": [],
   "source": [
    "fig, ax = pplt.subplots(figsize=(4.5, 2.0))\n",
    "for key in [\"eps_x\", \"eps_y\"]:\n",
    "    ax.plot(history[\"position\"].values, history[key].values * 1.00e+06, label=key)\n",
    "ax.legend(loc=\"r\", ncols=1)\n",
    "ax.format(xlabel=\"Distance [m]\", ylabel=\"[mm mrad]\", ymin=0.0)\n",
    "plt.show()"
   ]
  },
  {
   "cell_type": "code",
   "execution_count": null,
   "id": "8c220422-af11-4085-b9af-a5c4e14b652d",
   "metadata": {},
   "outputs": [],
   "source": [
    "fig, ax = pplt.subplots(figsize=(4.5, 2.0))\n",
    "for key in [\"eps_x_norm\", \"eps_y_norm\"]:\n",
    "    ax.plot(history[\"position\"].values, history[key].values * 1.00e+06, label=key)\n",
    "ax.legend(loc=\"r\", ncols=1)\n",
    "ax.format(xlabel=\"Distance [m]\", ylabel=\"[mm mrad]\", ymin=0.0)\n",
    "plt.show()"
   ]
  },
  {
   "cell_type": "code",
   "execution_count": null,
   "id": "0a1af89a-79cb-4a11-b38c-043a537d983a",
   "metadata": {},
   "outputs": [],
   "source": [
    "fig, ax = pplt.subplots(figsize=(4.5, 2.0))\n",
    "for key in [\"beta_y\", \"beta_x\"]:\n",
    "    ax.plot(history[\"position\"].values, history[key].values, label=key)\n",
    "ax.legend(loc=\"r\", ncols=1)\n",
    "ax.format(xlabel=\"Distance [m]\", ylabel=\"[mm/mrad]\", ymin=0.0)\n",
    "plt.show()"
   ]
  },
  {
   "cell_type": "code",
   "execution_count": null,
   "id": "ed41d852-3f25-4b38-8359-dedf47aeccf4",
   "metadata": {},
   "outputs": [],
   "source": [
    "fig, ax = pplt.subplots(figsize=(4.5, 2.0))\n",
    "for key in [\"alpha_x\", \"alpha_y\"]:\n",
    "    ax.plot(history[\"position\"].values, history[key].values, label=key)\n",
    "ax.legend(loc=\"r\", ncols=1)\n",
    "ax.format(xlabel=\"Distance [m]\")\n",
    "plt.show()"
   ]
  },
  {
   "cell_type": "markdown",
   "id": "cb7a49c5-f4a6-473d-961e-2138ba11c802",
   "metadata": {},
   "source": [
    "## Phase space distribution"
   ]
  },
  {
   "cell_type": "code",
   "execution_count": null,
   "id": "8703246b-3a5e-445a-a21d-0d81abd735ab",
   "metadata": {},
   "outputs": [],
   "source": [
    "class LoadedBunch:\n",
    "    def __init__(self, X: np.ndarray, node: Node, path: str) -> None:\n",
    "        self.X = X\n",
    "        self.node = node\n",
    "        self.path = path"
   ]
  },
  {
   "cell_type": "code",
   "execution_count": null,
   "id": "c0723e78-e13d-4c29-b7f2-3b7b69aa9159",
   "metadata": {},
   "outputs": [],
   "source": [
    "bunch_filenames = os.listdir(input_dir)\n",
    "bunch_filenames = sorted(bunch_filenames)\n",
    "bunch_filenames = [f for f in bunch_filenames if f.startswith(\"bunch\")]\n",
    "bunch_filenames = [os.path.join(input_dir, f) for f in bunch_filenames]\n",
    "\n",
    "bunches = []\n",
    "for file_name in bunch_filenames:\n",
    "    X = np.loadtxt(file_name, comments=\"%\", usecols=range(6))\n",
    "    X[:, 0] *= 1000.0  # x [m] -> [mm]\n",
    "    X[:, 1] *= 1000.0  # x' [rad] -> [mrad]\n",
    "    X[:, 2] *= 1000.0  # y [m] -> [mm]\n",
    "    X[:, 3] *= 1000.0  # y' [rad] -> [mrad]\n",
    "    X[:, 4] *= 1000.0  # z [m] -> [mm]\n",
    "    X[:, 5] *= 1000.0  # dE [GeV] -> [MeV]\n",
    "\n",
    "    node_name = file_name.split(\".dat\")[0]\n",
    "    node_name = node_name.split(\"bunch_\")[-1]\n",
    "    node_name = node_name[5:]  # remove node index \"1234_name\" -> \"name\"\n",
    "\n",
    "    # Some of the nodes are child nodes that do not show up in nodes dict. They should be\n",
    "    # in the lattice structure... we may have to read that file.\n",
    "    node = None\n",
    "    if node_name in nodes_dict:\n",
    "        node = nodes_dict[node_name]\n",
    "\n",
    "    print(\"file =\", file_name)\n",
    "    print(\"node =\", node_name)\n",
    "    print(\"info =\", node)\n",
    "    print()\n",
    "    \n",
    "    bunch = LoadedBunch(X, node, filename)\n",
    "    bunches.append(bunch)"
   ]
  },
  {
   "cell_type": "code",
   "execution_count": null,
   "id": "36fb0c4a-dbcd-465d-a8e5-9d67efc4619d",
   "metadata": {},
   "outputs": [],
   "source": [
    "dims = [\"x\", \"xp\", \"y\", \"yp\", \"z\", \"dE\"]\n",
    "units = [\"mm\", \"mrad\", \"mm\", \"mrad\", \"mm\", \"MeV\"]\n",
    "labels = [f\"{dim} [{unit}]\" for dim, unit in zip(dims, units)]\n",
    "\n",
    "limits = [\n",
    "    ps.points.limits(bunch.X, zero_center=True, pad=0.0, share=[(0, 2, 4), (1, 3)])\n",
    "    for bunch in bunches\n",
    "]\n",
    "limits = psv.combine_limits(limits)"
   ]
  },
  {
   "cell_type": "markdown",
   "id": "e5361be1-1790-474f-9c16-d335c140525a",
   "metadata": {},
   "source": [
    "### Interactive 2D projections"
   ]
  },
  {
   "cell_type": "code",
   "execution_count": null,
   "id": "0faac4b1-47bf-4c72-aa8d-619c2b376cba",
   "metadata": {},
   "outputs": [],
   "source": [
    "@interact(\n",
    "    dim1=widgets.Dropdown(options=dims, value=dims[0]),\n",
    "    dim2=widgets.Dropdown(options=dims, value=dims[1]),\n",
    "    index=widgets.IntSlider(min=0, max=(len(bunches) - 1), value=0, continuous_update=False),\n",
    "    bins=widgets.IntSlider(min=32, max=128, value=64, continuous_update=False),\n",
    "    lim_scale=widgets.FloatSlider(min=0.1, max=4.0, value=1.0, continuous_update=False),\n",
    "    lim_share=False,\n",
    "    log=False,\n",
    "    normalize=False,\n",
    ")\n",
    "def update(\n",
    "    dim1: str,\n",
    "    dim2: str,\n",
    "    index: int, \n",
    "    bins: int, \n",
    "    lim_scale: float, \n",
    "    lim_share: False,\n",
    "    log: bool, \n",
    "    normalize: bool\n",
    "):\n",
    "    if dim1 == dim2:\n",
    "        return\n",
    "\n",
    "    axis = [dims.index(dim) for dim in [dim1, dim2]]\n",
    "    axis = tuple(axis)\n",
    "    \n",
    "    X = bunches[index].X\n",
    "    if normalize:\n",
    "        X = ps.points.norm_xxp_yyp_zzp(X, scale_emittance=True)\n",
    "\n",
    "    _limits = None\n",
    "    if lim_share:\n",
    "        _limits = [limits[axis[0]], limits[axis[1]]]\n",
    "        if normalize:\n",
    "            _limits = 2 * [(-6.0, 6.0)]\n",
    "    else:\n",
    "        _limits = ps.points.limits(X[:, axis], pad=0.25)\n",
    "    _limits = np.multiply(_limits, lim_scale).tolist()\n",
    "\n",
    "    rho, edges = np.histogramdd(X[:, axis], bins=bins, range=_limits)\n",
    "    offset = 1.0\n",
    "    rho = rho + offset\n",
    "\n",
    "    fig, ax = pplt.subplots()\n",
    "    ax.pcolormesh(edges[0], edges[1], rho.T, norm=(\"log\" if log else None))\n",
    "    ax.format(xlabel=labels[axis[0]], ylabel=labels[axis[1]])\n",
    "    ax.format(title=f\"\")\n",
    "\n",
    "    paxs = [ax.panel_axes(loc, width=\"9.0em\") for loc in [\"top\", \"right\"]]\n",
    "    for pax in paxs:\n",
    "        pax.format(xspineloc=\"bottom\", yspineloc=\"left\")\n",
    "\n",
    "    rho_x, edges_x = np.histogram(X[:, axis[0]], range=_limits[0], bins=bins, density=False)\n",
    "    rho_y, edges_y = np.histogram(X[:, axis[1]], range=_limits[1], bins=bins, density=False)\n",
    "\n",
    "    offset = 1.0\n",
    "    rho_x = rho_x + offset\n",
    "    rho_y = rho_y + offset\n",
    "\n",
    "    kws = dict(color=\"black\", lw=1.25)\n",
    "    paxs[0].stairs(rho_x / np.max(rho_x), edges_x, **kws)\n",
    "    paxs[1].stairs(rho_y / np.max(rho_y), edges_y, orientation=\"horizontal\", **kws)\n",
    "    if log:\n",
    "        paxs[0].format(yscale=\"log\", yformatter=\"log\")\n",
    "        paxs[1].format(xscale=\"log\", xformatter=\"log\")\n",
    "    plt.show()"
   ]
  },
  {
   "cell_type": "markdown",
   "id": "2acd8d07-f8f6-427f-a85d-8f3ac1784515",
   "metadata": {},
   "source": [
    "### Interactive corner"
   ]
  },
  {
   "cell_type": "code",
   "execution_count": null,
   "id": "347b71e1-4c38-4a72-b4fd-464f6cb06c7c",
   "metadata": {},
   "outputs": [],
   "source": [
    "@interact(\n",
    "    ndim=widgets.BoundedIntText(min=4, max=6, value=6),\n",
    "    index=widgets.IntSlider(min=0, max=(len(bunches) - 1), value=0, continuous_update=False),\n",
    "    bins=widgets.IntSlider(min=32, max=128, value=64, continuous_update=False),\n",
    "    lim_scale=widgets.FloatSlider(min=0.1, max=4.0, value=1.0, continuous_update=False),\n",
    "    lim_share=False,\n",
    "    log=False,\n",
    "    ellipse=False,\n",
    "    mask=False,\n",
    "    normalize=False,\n",
    ")\n",
    "def update(\n",
    "    ndim: str,\n",
    "    index: int, \n",
    "    bins: int, \n",
    "    lim_scale: float, \n",
    "    lim_share: bool,\n",
    "    log: bool, \n",
    "    ellipse: bool,\n",
    "    mask: bool,\n",
    "    normalize: bool,\n",
    "): \n",
    "    X = bunches[index].X[:, :ndim]\n",
    "    if normalize:\n",
    "        X = ps.points.norm_xxp_yyp_zzp(X, scale_emittance=True)\n",
    "\n",
    "    _limits = None\n",
    "    if lim_share:\n",
    "        _limits = limits\n",
    "        if normalize:\n",
    "            _limits = ndim * [(-6.0, 6.0)]\n",
    "    else:\n",
    "        _limits = ps.points.limits(X, pad=0.25)\n",
    "    _limits = np.multiply(_limits, lim_scale).tolist()\n",
    "    \n",
    "    grid = psv.CornerGrid(ndim, diag_shrink=0.85, diag_rspine=False)\n",
    "    grid.plot_points(\n",
    "        X,\n",
    "        bins=bins,\n",
    "        limits=_limits,\n",
    "        mask=mask,\n",
    "        rms_ellipse=ellipse,\n",
    "        rms_ellipse_kws=dict(level=2.0, color=\"white\"),\n",
    "        norm=(\"log\" if log else None),\n",
    "        offset=(1.0 if not mask else 0.0),\n",
    "    )\n",
    "    if log:\n",
    "        grid.format_diag(yscale=\"log\", ymin=1.00e-04)\n",
    "    grid.set_labels(labels)\n",
    "    grid.axs.format(suptitle=f\"\")\n",
    "    plt.show()"
   ]
  },
  {
   "cell_type": "code",
   "execution_count": null,
   "id": "6f78c69b-60e5-4812-97bd-baab7a2074bc",
   "metadata": {},
   "outputs": [],
   "source": []
  }
 ],
 "metadata": {
  "kernelspec": {
   "display_name": "Python (pyorbit)",
   "language": "python",
   "name": "pyorbit"
  },
  "language_info": {
   "codemirror_mode": {
    "name": "ipython",
    "version": 3
   },
   "file_extension": ".py",
   "mimetype": "text/x-python",
   "name": "python",
   "nbconvert_exporter": "python",
   "pygments_lexer": "ipython3",
   "version": "3.10.14"
  }
 },
 "nbformat": 4,
 "nbformat_minor": 5
}
